{
 "cells": [
  {
   "cell_type": "code",
   "execution_count": 1,
   "metadata": {},
   "outputs": [],
   "source": [
    "import warnings\n",
    "warnings.filterwarnings('ignore')\n",
    "import pandas as pd"
   ]
  },
  {
   "cell_type": "code",
   "execution_count": 3,
   "metadata": {},
   "outputs": [],
   "source": [
    "Reviewdata = pd.read_csv('D:/nlp/projects/train.csv')"
   ]
  },
  {
   "cell_type": "code",
   "execution_count": 4,
   "metadata": {},
   "outputs": [
    {
     "data": {
      "text/plain": [
       "(38932, 5)"
      ]
     },
     "execution_count": 4,
     "metadata": {},
     "output_type": "execute_result"
    }
   ],
   "source": [
    "Reviewdata.shape"
   ]
  },
  {
   "cell_type": "code",
   "execution_count": 5,
   "metadata": {},
   "outputs": [
    {
     "data": {
      "text/html": [
       "<div>\n",
       "<style scoped>\n",
       "    .dataframe tbody tr th:only-of-type {\n",
       "        vertical-align: middle;\n",
       "    }\n",
       "\n",
       "    .dataframe tbody tr th {\n",
       "        vertical-align: top;\n",
       "    }\n",
       "\n",
       "    .dataframe thead th {\n",
       "        text-align: right;\n",
       "    }\n",
       "</style>\n",
       "<table border=\"1\" class=\"dataframe\">\n",
       "  <thead>\n",
       "    <tr style=\"text-align: right;\">\n",
       "      <th></th>\n",
       "      <th>User_ID</th>\n",
       "      <th>Description</th>\n",
       "      <th>Browser_Used</th>\n",
       "      <th>Device_Used</th>\n",
       "      <th>Is_Response</th>\n",
       "    </tr>\n",
       "  </thead>\n",
       "  <tbody>\n",
       "    <tr>\n",
       "      <th>0</th>\n",
       "      <td>id10326</td>\n",
       "      <td>The room was kind of clean but had a VERY stro...</td>\n",
       "      <td>Edge</td>\n",
       "      <td>Mobile</td>\n",
       "      <td>not happy</td>\n",
       "    </tr>\n",
       "    <tr>\n",
       "      <th>1</th>\n",
       "      <td>id10327</td>\n",
       "      <td>I stayed at the Crown Plaza April -- - April -...</td>\n",
       "      <td>Internet Explorer</td>\n",
       "      <td>Mobile</td>\n",
       "      <td>not happy</td>\n",
       "    </tr>\n",
       "    <tr>\n",
       "      <th>2</th>\n",
       "      <td>id10328</td>\n",
       "      <td>I booked this hotel through Hotwire at the low...</td>\n",
       "      <td>Mozilla</td>\n",
       "      <td>Tablet</td>\n",
       "      <td>not happy</td>\n",
       "    </tr>\n",
       "    <tr>\n",
       "      <th>3</th>\n",
       "      <td>id10329</td>\n",
       "      <td>Stayed here with husband and sons on the way t...</td>\n",
       "      <td>InternetExplorer</td>\n",
       "      <td>Desktop</td>\n",
       "      <td>happy</td>\n",
       "    </tr>\n",
       "    <tr>\n",
       "      <th>4</th>\n",
       "      <td>id10330</td>\n",
       "      <td>My girlfriends and I stayed here to celebrate ...</td>\n",
       "      <td>Edge</td>\n",
       "      <td>Tablet</td>\n",
       "      <td>not happy</td>\n",
       "    </tr>\n",
       "  </tbody>\n",
       "</table>\n",
       "</div>"
      ],
      "text/plain": [
       "   User_ID                                        Description  \\\n",
       "0  id10326  The room was kind of clean but had a VERY stro...   \n",
       "1  id10327  I stayed at the Crown Plaza April -- - April -...   \n",
       "2  id10328  I booked this hotel through Hotwire at the low...   \n",
       "3  id10329  Stayed here with husband and sons on the way t...   \n",
       "4  id10330  My girlfriends and I stayed here to celebrate ...   \n",
       "\n",
       "        Browser_Used Device_Used Is_Response  \n",
       "0               Edge      Mobile   not happy  \n",
       "1  Internet Explorer      Mobile   not happy  \n",
       "2            Mozilla      Tablet   not happy  \n",
       "3   InternetExplorer     Desktop       happy  \n",
       "4               Edge      Tablet   not happy  "
      ]
     },
     "execution_count": 5,
     "metadata": {},
     "output_type": "execute_result"
    }
   ],
   "source": [
    "Reviewdata.head()"
   ]
  },
  {
   "cell_type": "code",
   "execution_count": 6,
   "metadata": {},
   "outputs": [
    {
     "name": "stdout",
     "output_type": "stream",
     "text": [
      "<class 'pandas.core.frame.DataFrame'>\n",
      "RangeIndex: 38932 entries, 0 to 38931\n",
      "Data columns (total 5 columns):\n",
      " #   Column        Non-Null Count  Dtype \n",
      "---  ------        --------------  ----- \n",
      " 0   User_ID       38932 non-null  object\n",
      " 1   Description   38932 non-null  object\n",
      " 2   Browser_Used  38932 non-null  object\n",
      " 3   Device_Used   38932 non-null  object\n",
      " 4   Is_Response   38932 non-null  object\n",
      "dtypes: object(5)\n",
      "memory usage: 1.5+ MB\n"
     ]
    }
   ],
   "source": [
    "Reviewdata.info()"
   ]
  },
  {
   "cell_type": "code",
   "execution_count": 10,
   "metadata": {},
   "outputs": [
    {
     "data": {
      "text/html": [
       "<div>\n",
       "<style scoped>\n",
       "    .dataframe tbody tr th:only-of-type {\n",
       "        vertical-align: middle;\n",
       "    }\n",
       "\n",
       "    .dataframe tbody tr th {\n",
       "        vertical-align: top;\n",
       "    }\n",
       "\n",
       "    .dataframe thead th {\n",
       "        text-align: right;\n",
       "    }\n",
       "</style>\n",
       "<table border=\"1\" class=\"dataframe\">\n",
       "  <thead>\n",
       "    <tr style=\"text-align: right;\">\n",
       "      <th></th>\n",
       "      <th>count</th>\n",
       "      <th>unique</th>\n",
       "      <th>top</th>\n",
       "      <th>freq</th>\n",
       "    </tr>\n",
       "  </thead>\n",
       "  <tbody>\n",
       "    <tr>\n",
       "      <th>User_ID</th>\n",
       "      <td>38932</td>\n",
       "      <td>38932</td>\n",
       "      <td>id20517</td>\n",
       "      <td>1</td>\n",
       "    </tr>\n",
       "    <tr>\n",
       "      <th>Description</th>\n",
       "      <td>38932</td>\n",
       "      <td>38932</td>\n",
       "      <td>The weird design is pointless because there is...</td>\n",
       "      <td>1</td>\n",
       "    </tr>\n",
       "    <tr>\n",
       "      <th>Browser_Used</th>\n",
       "      <td>38932</td>\n",
       "      <td>11</td>\n",
       "      <td>Firefox</td>\n",
       "      <td>7367</td>\n",
       "    </tr>\n",
       "    <tr>\n",
       "      <th>Device_Used</th>\n",
       "      <td>38932</td>\n",
       "      <td>3</td>\n",
       "      <td>Desktop</td>\n",
       "      <td>15026</td>\n",
       "    </tr>\n",
       "    <tr>\n",
       "      <th>Is_Response</th>\n",
       "      <td>38932</td>\n",
       "      <td>2</td>\n",
       "      <td>happy</td>\n",
       "      <td>26521</td>\n",
       "    </tr>\n",
       "  </tbody>\n",
       "</table>\n",
       "</div>"
      ],
      "text/plain": [
       "              count unique                                                top  \\\n",
       "User_ID       38932  38932                                            id20517   \n",
       "Description   38932  38932  The weird design is pointless because there is...   \n",
       "Browser_Used  38932     11                                            Firefox   \n",
       "Device_Used   38932      3                                            Desktop   \n",
       "Is_Response   38932      2                                              happy   \n",
       "\n",
       "               freq  \n",
       "User_ID           1  \n",
       "Description       1  \n",
       "Browser_Used   7367  \n",
       "Device_Used   15026  \n",
       "Is_Response   26521  "
      ]
     },
     "execution_count": 10,
     "metadata": {},
     "output_type": "execute_result"
    }
   ],
   "source": [
    "Reviewdata.describe().transpose()"
   ]
  },
  {
   "cell_type": "code",
   "execution_count": 11,
   "metadata": {},
   "outputs": [
    {
     "name": "stdout",
     "output_type": "stream",
     "text": [
      "Count and percentage of missing values for the columns:\n"
     ]
    },
    {
     "data": {
      "text/html": [
       "<div>\n",
       "<style scoped>\n",
       "    .dataframe tbody tr th:only-of-type {\n",
       "        vertical-align: middle;\n",
       "    }\n",
       "\n",
       "    .dataframe tbody tr th {\n",
       "        vertical-align: top;\n",
       "    }\n",
       "\n",
       "    .dataframe thead th {\n",
       "        text-align: right;\n",
       "    }\n",
       "</style>\n",
       "<table border=\"1\" class=\"dataframe\">\n",
       "  <thead>\n",
       "    <tr style=\"text-align: right;\">\n",
       "      <th></th>\n",
       "      <th>Count</th>\n",
       "      <th>Percentage</th>\n",
       "    </tr>\n",
       "  </thead>\n",
       "  <tbody>\n",
       "    <tr>\n",
       "      <th>Is_Response</th>\n",
       "      <td>0</td>\n",
       "      <td>0.0</td>\n",
       "    </tr>\n",
       "    <tr>\n",
       "      <th>Device_Used</th>\n",
       "      <td>0</td>\n",
       "      <td>0.0</td>\n",
       "    </tr>\n",
       "    <tr>\n",
       "      <th>Browser_Used</th>\n",
       "      <td>0</td>\n",
       "      <td>0.0</td>\n",
       "    </tr>\n",
       "    <tr>\n",
       "      <th>Description</th>\n",
       "      <td>0</td>\n",
       "      <td>0.0</td>\n",
       "    </tr>\n",
       "    <tr>\n",
       "      <th>User_ID</th>\n",
       "      <td>0</td>\n",
       "      <td>0.0</td>\n",
       "    </tr>\n",
       "  </tbody>\n",
       "</table>\n",
       "</div>"
      ],
      "text/plain": [
       "              Count  Percentage\n",
       "Is_Response       0         0.0\n",
       "Device_Used       0         0.0\n",
       "Browser_Used      0         0.0\n",
       "Description       0         0.0\n",
       "User_ID           0         0.0"
      ]
     },
     "execution_count": 11,
     "metadata": {},
     "output_type": "execute_result"
    }
   ],
   "source": [
    "count = Reviewdata.isnull().sum().sort_values(ascending=False)\n",
    "percentage = ((Reviewdata.isnull().sum()/len(Reviewdata)*100)).sort_values(ascending=False)\n",
    "missing_data = pd.concat([count, percentage], axis=1,\n",
    "keys=['Count','Percentage'])\n",
    "\n",
    "print('Count and percentage of missing values for the columns:')\n",
    "\n",
    "missing_data"
   ]
  },
  {
   "cell_type": "code",
   "execution_count": 12,
   "metadata": {},
   "outputs": [
    {
     "name": "stdout",
     "output_type": "stream",
     "text": [
      "Percentage for default\n",
      "\n",
      "happy        0.681213\n",
      "not happy    0.318787\n",
      "Name: Is_Response, dtype: float64\n"
     ]
    },
    {
     "data": {
      "image/png": "[encoded data removed]",
      "text/plain": [
       "<Figure size 432x288 with 1 Axes>"
      ]
     },
     "metadata": {
      "needs_background": "light"
     },
     "output_type": "display_data"
    }
   ],
   "source": [
    "import matplotlib.pyplot as plt\n",
    "%matplotlib inline\n",
    "print('Percentage for default\\n')\n",
    "print(Reviewdata.Is_Response.value_counts(normalize=True))\n",
    "round(Reviewdata.Is_Response.value_counts(normalize=True)*100,2).plot(kind='bar')\n",
    "plt.xticks(rotation='30')\n",
    "plt.title('Percentage Distributions by review type')\n",
    "plt.show()"
   ]
  },
  {
   "cell_type": "code",
   "execution_count": 13,
   "metadata": {},
   "outputs": [],
   "source": [
    "Reviewdata.drop(columns = ['User_ID', 'Browser_Used', 'Device_Used'], inplace = True)"
   ]
  },
  {
   "cell_type": "code",
   "execution_count": 14,
   "metadata": {},
   "outputs": [],
   "source": [
    "import re\n",
    "import string\n",
    "\n",
    "def text_clean_1(text):\n",
    "    text = text.lower()\n",
    "    text = re.sub('\\[.*?\\]', '', text)\n",
    "    text = re.sub('[%s]' % re.escape(string.punctuation), '', text)\n",
    "    text = re.sub('\\w*\\d\\w*', '', text)\n",
    "    return text\n",
    "\n",
    "cleaned1 = lambda x: text_clean_1(x)"
   ]
  },
  {
   "cell_type": "code",
   "execution_count": 15,
   "metadata": {},
   "outputs": [
    {
     "data": {
      "text/html": [
       "<div>\n",
       "<style scoped>\n",
       "    .dataframe tbody tr th:only-of-type {\n",
       "        vertical-align: middle;\n",
       "    }\n",
       "\n",
       "    .dataframe tbody tr th {\n",
       "        vertical-align: top;\n",
       "    }\n",
       "\n",
       "    .dataframe thead th {\n",
       "        text-align: right;\n",
       "    }\n",
       "</style>\n",
       "<table border=\"1\" class=\"dataframe\">\n",
       "  <thead>\n",
       "    <tr style=\"text-align: right;\">\n",
       "      <th></th>\n",
       "      <th>Description</th>\n",
       "      <th>Is_Response</th>\n",
       "      <th>cleaned_description</th>\n",
       "    </tr>\n",
       "  </thead>\n",
       "  <tbody>\n",
       "    <tr>\n",
       "      <th>0</th>\n",
       "      <td>The room was kind of clean but had a VERY stro...</td>\n",
       "      <td>not happy</td>\n",
       "      <td>the room was kind of clean but had a very stro...</td>\n",
       "    </tr>\n",
       "    <tr>\n",
       "      <th>1</th>\n",
       "      <td>I stayed at the Crown Plaza April -- - April -...</td>\n",
       "      <td>not happy</td>\n",
       "      <td>i stayed at the crown plaza april   april   th...</td>\n",
       "    </tr>\n",
       "    <tr>\n",
       "      <th>2</th>\n",
       "      <td>I booked this hotel through Hotwire at the low...</td>\n",
       "      <td>not happy</td>\n",
       "      <td>i booked this hotel through hotwire at the low...</td>\n",
       "    </tr>\n",
       "    <tr>\n",
       "      <th>3</th>\n",
       "      <td>Stayed here with husband and sons on the way t...</td>\n",
       "      <td>happy</td>\n",
       "      <td>stayed here with husband and sons on the way t...</td>\n",
       "    </tr>\n",
       "    <tr>\n",
       "      <th>4</th>\n",
       "      <td>My girlfriends and I stayed here to celebrate ...</td>\n",
       "      <td>not happy</td>\n",
       "      <td>my girlfriends and i stayed here to celebrate ...</td>\n",
       "    </tr>\n",
       "    <tr>\n",
       "      <th>5</th>\n",
       "      <td>We had - rooms. One was very nice and clearly ...</td>\n",
       "      <td>happy</td>\n",
       "      <td>we had  rooms one was very nice and clearly ha...</td>\n",
       "    </tr>\n",
       "    <tr>\n",
       "      <th>6</th>\n",
       "      <td>My husband and I have stayed in this hotel a f...</td>\n",
       "      <td>not happy</td>\n",
       "      <td>my husband and i have stayed in this hotel a f...</td>\n",
       "    </tr>\n",
       "    <tr>\n",
       "      <th>7</th>\n",
       "      <td>My wife &amp; I stayed in this glorious city a whi...</td>\n",
       "      <td>happy</td>\n",
       "      <td>my wife  i stayed in this glorious city a whil...</td>\n",
       "    </tr>\n",
       "    <tr>\n",
       "      <th>8</th>\n",
       "      <td>My boyfriend and I stayed at the Fairmont on a...</td>\n",
       "      <td>happy</td>\n",
       "      <td>my boyfriend and i stayed at the fairmont on a...</td>\n",
       "    </tr>\n",
       "    <tr>\n",
       "      <th>9</th>\n",
       "      <td>Wonderful staff, great location, but it was de...</td>\n",
       "      <td>not happy</td>\n",
       "      <td>wonderful staff great location but it was defi...</td>\n",
       "    </tr>\n",
       "  </tbody>\n",
       "</table>\n",
       "</div>"
      ],
      "text/plain": [
       "                                         Description Is_Response  \\\n",
       "0  The room was kind of clean but had a VERY stro...   not happy   \n",
       "1  I stayed at the Crown Plaza April -- - April -...   not happy   \n",
       "2  I booked this hotel through Hotwire at the low...   not happy   \n",
       "3  Stayed here with husband and sons on the way t...       happy   \n",
       "4  My girlfriends and I stayed here to celebrate ...   not happy   \n",
       "5  We had - rooms. One was very nice and clearly ...       happy   \n",
       "6  My husband and I have stayed in this hotel a f...   not happy   \n",
       "7  My wife & I stayed in this glorious city a whi...       happy   \n",
       "8  My boyfriend and I stayed at the Fairmont on a...       happy   \n",
       "9  Wonderful staff, great location, but it was de...   not happy   \n",
       "\n",
       "                                 cleaned_description  \n",
       "0  the room was kind of clean but had a very stro...  \n",
       "1  i stayed at the crown plaza april   april   th...  \n",
       "2  i booked this hotel through hotwire at the low...  \n",
       "3  stayed here with husband and sons on the way t...  \n",
       "4  my girlfriends and i stayed here to celebrate ...  \n",
       "5  we had  rooms one was very nice and clearly ha...  \n",
       "6  my husband and i have stayed in this hotel a f...  \n",
       "7  my wife  i stayed in this glorious city a whil...  \n",
       "8  my boyfriend and i stayed at the fairmont on a...  \n",
       "9  wonderful staff great location but it was defi...  "
      ]
     },
     "execution_count": 15,
     "metadata": {},
     "output_type": "execute_result"
    }
   ],
   "source": [
    "Reviewdata['cleaned_description'] = pd.DataFrame(Reviewdata.Description.apply(cleaned1))\n",
    "Reviewdata.head(10)"
   ]
  },
  {
   "cell_type": "code",
   "execution_count": 16,
   "metadata": {},
   "outputs": [],
   "source": [
    "def text_clean_2(text):\n",
    "    text = re.sub('[‘’“”…]', '', text)\n",
    "    text = re.sub('\\n', '', text)\n",
    "    return text\n",
    "\n",
    "cleaned2 = lambda x: text_clean_2(x)"
   ]
  },
  {
   "cell_type": "code",
   "execution_count": 17,
   "metadata": {},
   "outputs": [
    {
     "data": {
      "text/html": [
       "<div>\n",
       "<style scoped>\n",
       "    .dataframe tbody tr th:only-of-type {\n",
       "        vertical-align: middle;\n",
       "    }\n",
       "\n",
       "    .dataframe tbody tr th {\n",
       "        vertical-align: top;\n",
       "    }\n",
       "\n",
       "    .dataframe thead th {\n",
       "        text-align: right;\n",
       "    }\n",
       "</style>\n",
       "<table border=\"1\" class=\"dataframe\">\n",
       "  <thead>\n",
       "    <tr style=\"text-align: right;\">\n",
       "      <th></th>\n",
       "      <th>Description</th>\n",
       "      <th>Is_Response</th>\n",
       "      <th>cleaned_description</th>\n",
       "      <th>cleaned_description_new</th>\n",
       "    </tr>\n",
       "  </thead>\n",
       "  <tbody>\n",
       "    <tr>\n",
       "      <th>0</th>\n",
       "      <td>The room was kind of clean but had a VERY stro...</td>\n",
       "      <td>not happy</td>\n",
       "      <td>the room was kind of clean but had a very stro...</td>\n",
       "      <td>the room was kind of clean but had a very stro...</td>\n",
       "    </tr>\n",
       "    <tr>\n",
       "      <th>1</th>\n",
       "      <td>I stayed at the Crown Plaza April -- - April -...</td>\n",
       "      <td>not happy</td>\n",
       "      <td>i stayed at the crown plaza april   april   th...</td>\n",
       "      <td>i stayed at the crown plaza april   april   th...</td>\n",
       "    </tr>\n",
       "    <tr>\n",
       "      <th>2</th>\n",
       "      <td>I booked this hotel through Hotwire at the low...</td>\n",
       "      <td>not happy</td>\n",
       "      <td>i booked this hotel through hotwire at the low...</td>\n",
       "      <td>i booked this hotel through hotwire at the low...</td>\n",
       "    </tr>\n",
       "    <tr>\n",
       "      <th>3</th>\n",
       "      <td>Stayed here with husband and sons on the way t...</td>\n",
       "      <td>happy</td>\n",
       "      <td>stayed here with husband and sons on the way t...</td>\n",
       "      <td>stayed here with husband and sons on the way t...</td>\n",
       "    </tr>\n",
       "    <tr>\n",
       "      <th>4</th>\n",
       "      <td>My girlfriends and I stayed here to celebrate ...</td>\n",
       "      <td>not happy</td>\n",
       "      <td>my girlfriends and i stayed here to celebrate ...</td>\n",
       "      <td>my girlfriends and i stayed here to celebrate ...</td>\n",
       "    </tr>\n",
       "    <tr>\n",
       "      <th>5</th>\n",
       "      <td>We had - rooms. One was very nice and clearly ...</td>\n",
       "      <td>happy</td>\n",
       "      <td>we had  rooms one was very nice and clearly ha...</td>\n",
       "      <td>we had  rooms one was very nice and clearly ha...</td>\n",
       "    </tr>\n",
       "    <tr>\n",
       "      <th>6</th>\n",
       "      <td>My husband and I have stayed in this hotel a f...</td>\n",
       "      <td>not happy</td>\n",
       "      <td>my husband and i have stayed in this hotel a f...</td>\n",
       "      <td>my husband and i have stayed in this hotel a f...</td>\n",
       "    </tr>\n",
       "    <tr>\n",
       "      <th>7</th>\n",
       "      <td>My wife &amp; I stayed in this glorious city a whi...</td>\n",
       "      <td>happy</td>\n",
       "      <td>my wife  i stayed in this glorious city a whil...</td>\n",
       "      <td>my wife  i stayed in this glorious city a whil...</td>\n",
       "    </tr>\n",
       "    <tr>\n",
       "      <th>8</th>\n",
       "      <td>My boyfriend and I stayed at the Fairmont on a...</td>\n",
       "      <td>happy</td>\n",
       "      <td>my boyfriend and i stayed at the fairmont on a...</td>\n",
       "      <td>my boyfriend and i stayed at the fairmont on a...</td>\n",
       "    </tr>\n",
       "    <tr>\n",
       "      <th>9</th>\n",
       "      <td>Wonderful staff, great location, but it was de...</td>\n",
       "      <td>not happy</td>\n",
       "      <td>wonderful staff great location but it was defi...</td>\n",
       "      <td>wonderful staff great location but it was defi...</td>\n",
       "    </tr>\n",
       "  </tbody>\n",
       "</table>\n",
       "</div>"
      ],
      "text/plain": [
       "                                         Description Is_Response  \\\n",
       "0  The room was kind of clean but had a VERY stro...   not happy   \n",
       "1  I stayed at the Crown Plaza April -- - April -...   not happy   \n",
       "2  I booked this hotel through Hotwire at the low...   not happy   \n",
       "3  Stayed here with husband and sons on the way t...       happy   \n",
       "4  My girlfriends and I stayed here to celebrate ...   not happy   \n",
       "5  We had - rooms. One was very nice and clearly ...       happy   \n",
       "6  My husband and I have stayed in this hotel a f...   not happy   \n",
       "7  My wife & I stayed in this glorious city a whi...       happy   \n",
       "8  My boyfriend and I stayed at the Fairmont on a...       happy   \n",
       "9  Wonderful staff, great location, but it was de...   not happy   \n",
       "\n",
       "                                 cleaned_description  \\\n",
       "0  the room was kind of clean but had a very stro...   \n",
       "1  i stayed at the crown plaza april   april   th...   \n",
       "2  i booked this hotel through hotwire at the low...   \n",
       "3  stayed here with husband and sons on the way t...   \n",
       "4  my girlfriends and i stayed here to celebrate ...   \n",
       "5  we had  rooms one was very nice and clearly ha...   \n",
       "6  my husband and i have stayed in this hotel a f...   \n",
       "7  my wife  i stayed in this glorious city a whil...   \n",
       "8  my boyfriend and i stayed at the fairmont on a...   \n",
       "9  wonderful staff great location but it was defi...   \n",
       "\n",
       "                             cleaned_description_new  \n",
       "0  the room was kind of clean but had a very stro...  \n",
       "1  i stayed at the crown plaza april   april   th...  \n",
       "2  i booked this hotel through hotwire at the low...  \n",
       "3  stayed here with husband and sons on the way t...  \n",
       "4  my girlfriends and i stayed here to celebrate ...  \n",
       "5  we had  rooms one was very nice and clearly ha...  \n",
       "6  my husband and i have stayed in this hotel a f...  \n",
       "7  my wife  i stayed in this glorious city a whil...  \n",
       "8  my boyfriend and i stayed at the fairmont on a...  \n",
       "9  wonderful staff great location but it was defi...  "
      ]
     },
     "execution_count": 17,
     "metadata": {},
     "output_type": "execute_result"
    }
   ],
   "source": [
    "Reviewdata['cleaned_description_new'] = pd.DataFrame(Reviewdata['cleaned_description'].apply(cleaned2))\n",
    "Reviewdata.head(10)"
   ]
  },
  {
   "cell_type": "code",
   "execution_count": 19,
   "metadata": {},
   "outputs": [],
   "source": [
    "testdata = pd.read_csv('D:/nlp/projects/test.csv')"
   ]
  },
  {
   "cell_type": "code",
   "execution_count": 20,
   "metadata": {},
   "outputs": [
    {
     "data": {
      "text/plain": [
       "(29404, 4)"
      ]
     },
     "execution_count": 20,
     "metadata": {},
     "output_type": "execute_result"
    }
   ],
   "source": [
    "testdata.shape"
   ]
  },
  {
   "cell_type": "code",
   "execution_count": 21,
   "metadata": {},
   "outputs": [
    {
     "name": "stdout",
     "output_type": "stream",
     "text": [
      "<class 'pandas.core.frame.DataFrame'>\n",
      "RangeIndex: 29404 entries, 0 to 29403\n",
      "Data columns (total 4 columns):\n",
      " #   Column        Non-Null Count  Dtype \n",
      "---  ------        --------------  ----- \n",
      " 0   User_ID       29404 non-null  object\n",
      " 1   Description   29404 non-null  object\n",
      " 2   Browser_Used  29404 non-null  object\n",
      " 3   Device_Used   29404 non-null  object\n",
      "dtypes: object(4)\n",
      "memory usage: 919.0+ KB\n"
     ]
    }
   ],
   "source": [
    "testdata.info()"
   ]
  },
  {
   "cell_type": "code",
   "execution_count": 22,
   "metadata": {},
   "outputs": [
    {
     "data": {
      "text/html": [
       "<div>\n",
       "<style scoped>\n",
       "    .dataframe tbody tr th:only-of-type {\n",
       "        vertical-align: middle;\n",
       "    }\n",
       "\n",
       "    .dataframe tbody tr th {\n",
       "        vertical-align: top;\n",
       "    }\n",
       "\n",
       "    .dataframe thead th {\n",
       "        text-align: right;\n",
       "    }\n",
       "</style>\n",
       "<table border=\"1\" class=\"dataframe\">\n",
       "  <thead>\n",
       "    <tr style=\"text-align: right;\">\n",
       "      <th></th>\n",
       "      <th>User_ID</th>\n",
       "      <th>Description</th>\n",
       "      <th>Browser_Used</th>\n",
       "      <th>Device_Used</th>\n",
       "    </tr>\n",
       "  </thead>\n",
       "  <tbody>\n",
       "    <tr>\n",
       "      <th>0</th>\n",
       "      <td>id80132</td>\n",
       "      <td>Looking for a motel in close proximity to TV t...</td>\n",
       "      <td>Firefox</td>\n",
       "      <td>Mobile</td>\n",
       "    </tr>\n",
       "    <tr>\n",
       "      <th>1</th>\n",
       "      <td>id80133</td>\n",
       "      <td>Walking distance to Madison Square Garden and ...</td>\n",
       "      <td>InternetExplorer</td>\n",
       "      <td>Desktop</td>\n",
       "    </tr>\n",
       "    <tr>\n",
       "      <th>2</th>\n",
       "      <td>id80134</td>\n",
       "      <td>Visited Seattle on business. Spent - nights in...</td>\n",
       "      <td>IE</td>\n",
       "      <td>Tablet</td>\n",
       "    </tr>\n",
       "    <tr>\n",
       "      <th>3</th>\n",
       "      <td>id80135</td>\n",
       "      <td>This hotel location is excellent and the rooms...</td>\n",
       "      <td>Edge</td>\n",
       "      <td>Mobile</td>\n",
       "    </tr>\n",
       "    <tr>\n",
       "      <th>4</th>\n",
       "      <td>id80136</td>\n",
       "      <td>This hotel is awesome I love the service Antho...</td>\n",
       "      <td>Mozilla</td>\n",
       "      <td>Mobile</td>\n",
       "    </tr>\n",
       "  </tbody>\n",
       "</table>\n",
       "</div>"
      ],
      "text/plain": [
       "   User_ID                                        Description  \\\n",
       "0  id80132  Looking for a motel in close proximity to TV t...   \n",
       "1  id80133  Walking distance to Madison Square Garden and ...   \n",
       "2  id80134  Visited Seattle on business. Spent - nights in...   \n",
       "3  id80135  This hotel location is excellent and the rooms...   \n",
       "4  id80136  This hotel is awesome I love the service Antho...   \n",
       "\n",
       "       Browser_Used Device_Used  \n",
       "0           Firefox      Mobile  \n",
       "1  InternetExplorer     Desktop  \n",
       "2                IE      Tablet  \n",
       "3              Edge      Mobile  \n",
       "4           Mozilla      Mobile  "
      ]
     },
     "execution_count": 22,
     "metadata": {},
     "output_type": "execute_result"
    }
   ],
   "source": [
    "testdata.head()"
   ]
  },
  {
   "cell_type": "code",
   "execution_count": 23,
   "metadata": {},
   "outputs": [
    {
     "name": "stdout",
     "output_type": "stream",
     "text": [
      "Count and percentage of missing values for the columns:\n"
     ]
    },
    {
     "data": {
      "text/html": [
       "<div>\n",
       "<style scoped>\n",
       "    .dataframe tbody tr th:only-of-type {\n",
       "        vertical-align: middle;\n",
       "    }\n",
       "\n",
       "    .dataframe tbody tr th {\n",
       "        vertical-align: top;\n",
       "    }\n",
       "\n",
       "    .dataframe thead th {\n",
       "        text-align: right;\n",
       "    }\n",
       "</style>\n",
       "<table border=\"1\" class=\"dataframe\">\n",
       "  <thead>\n",
       "    <tr style=\"text-align: right;\">\n",
       "      <th></th>\n",
       "      <th>Count</th>\n",
       "      <th>Percentage</th>\n",
       "    </tr>\n",
       "  </thead>\n",
       "  <tbody>\n",
       "    <tr>\n",
       "      <th>Device_Used</th>\n",
       "      <td>0</td>\n",
       "      <td>0.0</td>\n",
       "    </tr>\n",
       "    <tr>\n",
       "      <th>Browser_Used</th>\n",
       "      <td>0</td>\n",
       "      <td>0.0</td>\n",
       "    </tr>\n",
       "    <tr>\n",
       "      <th>Description</th>\n",
       "      <td>0</td>\n",
       "      <td>0.0</td>\n",
       "    </tr>\n",
       "    <tr>\n",
       "      <th>User_ID</th>\n",
       "      <td>0</td>\n",
       "      <td>0.0</td>\n",
       "    </tr>\n",
       "  </tbody>\n",
       "</table>\n",
       "</div>"
      ],
      "text/plain": [
       "              Count  Percentage\n",
       "Device_Used       0         0.0\n",
       "Browser_Used      0         0.0\n",
       "Description       0         0.0\n",
       "User_ID           0         0.0"
      ]
     },
     "execution_count": 23,
     "metadata": {},
     "output_type": "execute_result"
    }
   ],
   "source": [
    "count = testdata.isnull().sum().sort_values(ascending=False)\n",
    "percentage = ((testdata.isnull().sum()/len(testdata)*100)).sort_values(ascending=False)\n",
    "missing_data_test = pd.concat([count, percentage], axis=1,\n",
    "keys=['Count','Percentage'])\n",
    "\n",
    "print('Count and percentage of missing values for the columns:')\n",
    "\n",
    "missing_data_test"
   ]
  },
  {
   "cell_type": "code",
   "execution_count": 25,
   "metadata": {},
   "outputs": [],
   "source": [
    "testdata.drop(columns = ['User_ID', 'Browser_Used', 'Device_Used'], inplace = True)"
   ]
  },
  {
   "cell_type": "code",
   "execution_count": 26,
   "metadata": {},
   "outputs": [
    {
     "data": {
      "text/html": [
       "<div>\n",
       "<style scoped>\n",
       "    .dataframe tbody tr th:only-of-type {\n",
       "        vertical-align: middle;\n",
       "    }\n",
       "\n",
       "    .dataframe tbody tr th {\n",
       "        vertical-align: top;\n",
       "    }\n",
       "\n",
       "    .dataframe thead th {\n",
       "        text-align: right;\n",
       "    }\n",
       "</style>\n",
       "<table border=\"1\" class=\"dataframe\">\n",
       "  <thead>\n",
       "    <tr style=\"text-align: right;\">\n",
       "      <th></th>\n",
       "      <th>Description</th>\n",
       "      <th>cleaned_description</th>\n",
       "    </tr>\n",
       "  </thead>\n",
       "  <tbody>\n",
       "    <tr>\n",
       "      <th>0</th>\n",
       "      <td>Looking for a motel in close proximity to TV t...</td>\n",
       "      <td>looking for a motel in close proximity to tv t...</td>\n",
       "    </tr>\n",
       "    <tr>\n",
       "      <th>1</th>\n",
       "      <td>Walking distance to Madison Square Garden and ...</td>\n",
       "      <td>walking distance to madison square garden and ...</td>\n",
       "    </tr>\n",
       "    <tr>\n",
       "      <th>2</th>\n",
       "      <td>Visited Seattle on business. Spent - nights in...</td>\n",
       "      <td>visited seattle on business spent  nights in t...</td>\n",
       "    </tr>\n",
       "    <tr>\n",
       "      <th>3</th>\n",
       "      <td>This hotel location is excellent and the rooms...</td>\n",
       "      <td>this hotel location is excellent and the rooms...</td>\n",
       "    </tr>\n",
       "    <tr>\n",
       "      <th>4</th>\n",
       "      <td>This hotel is awesome I love the service Antho...</td>\n",
       "      <td>this hotel is awesome i love the service antho...</td>\n",
       "    </tr>\n",
       "    <tr>\n",
       "      <th>5</th>\n",
       "      <td>Rooms, concierge services and party scene were...</td>\n",
       "      <td>rooms concierge services and party scene were ...</td>\n",
       "    </tr>\n",
       "    <tr>\n",
       "      <th>6</th>\n",
       "      <td>What a pleasant place to stay!\\nThe hotel is b...</td>\n",
       "      <td>what a pleasant place to stay\\nthe hotel is be...</td>\n",
       "    </tr>\n",
       "    <tr>\n",
       "      <th>7</th>\n",
       "      <td>I booked out the same day I arrived. It cost m...</td>\n",
       "      <td>i booked out the same day i arrived it cost me...</td>\n",
       "    </tr>\n",
       "    <tr>\n",
       "      <th>8</th>\n",
       "      <td>Unlike some hotels that grimace when you show ...</td>\n",
       "      <td>unlike some hotels that grimace when you show ...</td>\n",
       "    </tr>\n",
       "    <tr>\n",
       "      <th>9</th>\n",
       "      <td>Hotel Sorella for my birthday. I absolutely lo...</td>\n",
       "      <td>hotel sorella for my birthday i absolutely lov...</td>\n",
       "    </tr>\n",
       "  </tbody>\n",
       "</table>\n",
       "</div>"
      ],
      "text/plain": [
       "                                         Description  \\\n",
       "0  Looking for a motel in close proximity to TV t...   \n",
       "1  Walking distance to Madison Square Garden and ...   \n",
       "2  Visited Seattle on business. Spent - nights in...   \n",
       "3  This hotel location is excellent and the rooms...   \n",
       "4  This hotel is awesome I love the service Antho...   \n",
       "5  Rooms, concierge services and party scene were...   \n",
       "6  What a pleasant place to stay!\\nThe hotel is b...   \n",
       "7  I booked out the same day I arrived. It cost m...   \n",
       "8  Unlike some hotels that grimace when you show ...   \n",
       "9  Hotel Sorella for my birthday. I absolutely lo...   \n",
       "\n",
       "                                 cleaned_description  \n",
       "0  looking for a motel in close proximity to tv t...  \n",
       "1  walking distance to madison square garden and ...  \n",
       "2  visited seattle on business spent  nights in t...  \n",
       "3  this hotel location is excellent and the rooms...  \n",
       "4  this hotel is awesome i love the service antho...  \n",
       "5  rooms concierge services and party scene were ...  \n",
       "6  what a pleasant place to stay\\nthe hotel is be...  \n",
       "7  i booked out the same day i arrived it cost me...  \n",
       "8  unlike some hotels that grimace when you show ...  \n",
       "9  hotel sorella for my birthday i absolutely lov...  "
      ]
     },
     "execution_count": 26,
     "metadata": {},
     "output_type": "execute_result"
    }
   ],
   "source": [
    "testdata['cleaned_description'] = pd.DataFrame(testdata.Description.apply(cleaned1))\n",
    "testdata.head(10)"
   ]
  },
  {
   "cell_type": "code",
   "execution_count": 27,
   "metadata": {},
   "outputs": [
    {
     "data": {
      "text/html": [
       "<div>\n",
       "<style scoped>\n",
       "    .dataframe tbody tr th:only-of-type {\n",
       "        vertical-align: middle;\n",
       "    }\n",
       "\n",
       "    .dataframe tbody tr th {\n",
       "        vertical-align: top;\n",
       "    }\n",
       "\n",
       "    .dataframe thead th {\n",
       "        text-align: right;\n",
       "    }\n",
       "</style>\n",
       "<table border=\"1\" class=\"dataframe\">\n",
       "  <thead>\n",
       "    <tr style=\"text-align: right;\">\n",
       "      <th></th>\n",
       "      <th>Description</th>\n",
       "      <th>cleaned_description</th>\n",
       "      <th>cleaned_description_new</th>\n",
       "    </tr>\n",
       "  </thead>\n",
       "  <tbody>\n",
       "    <tr>\n",
       "      <th>0</th>\n",
       "      <td>Looking for a motel in close proximity to TV t...</td>\n",
       "      <td>looking for a motel in close proximity to tv t...</td>\n",
       "      <td>looking for a motel in close proximity to tv t...</td>\n",
       "    </tr>\n",
       "    <tr>\n",
       "      <th>1</th>\n",
       "      <td>Walking distance to Madison Square Garden and ...</td>\n",
       "      <td>walking distance to madison square garden and ...</td>\n",
       "      <td>walking distance to madison square garden and ...</td>\n",
       "    </tr>\n",
       "    <tr>\n",
       "      <th>2</th>\n",
       "      <td>Visited Seattle on business. Spent - nights in...</td>\n",
       "      <td>visited seattle on business spent  nights in t...</td>\n",
       "      <td>visited seattle on business spent  nights in t...</td>\n",
       "    </tr>\n",
       "    <tr>\n",
       "      <th>3</th>\n",
       "      <td>This hotel location is excellent and the rooms...</td>\n",
       "      <td>this hotel location is excellent and the rooms...</td>\n",
       "      <td>this hotel location is excellent and the rooms...</td>\n",
       "    </tr>\n",
       "    <tr>\n",
       "      <th>4</th>\n",
       "      <td>This hotel is awesome I love the service Antho...</td>\n",
       "      <td>this hotel is awesome i love the service antho...</td>\n",
       "      <td>this hotel is awesome i love the service antho...</td>\n",
       "    </tr>\n",
       "    <tr>\n",
       "      <th>5</th>\n",
       "      <td>Rooms, concierge services and party scene were...</td>\n",
       "      <td>rooms concierge services and party scene were ...</td>\n",
       "      <td>rooms concierge services and party scene were ...</td>\n",
       "    </tr>\n",
       "    <tr>\n",
       "      <th>6</th>\n",
       "      <td>What a pleasant place to stay!\\nThe hotel is b...</td>\n",
       "      <td>what a pleasant place to stay\\nthe hotel is be...</td>\n",
       "      <td>what a pleasant place to staythe hotel is beau...</td>\n",
       "    </tr>\n",
       "    <tr>\n",
       "      <th>7</th>\n",
       "      <td>I booked out the same day I arrived. It cost m...</td>\n",
       "      <td>i booked out the same day i arrived it cost me...</td>\n",
       "      <td>i booked out the same day i arrived it cost me...</td>\n",
       "    </tr>\n",
       "    <tr>\n",
       "      <th>8</th>\n",
       "      <td>Unlike some hotels that grimace when you show ...</td>\n",
       "      <td>unlike some hotels that grimace when you show ...</td>\n",
       "      <td>unlike some hotels that grimace when you show ...</td>\n",
       "    </tr>\n",
       "    <tr>\n",
       "      <th>9</th>\n",
       "      <td>Hotel Sorella for my birthday. I absolutely lo...</td>\n",
       "      <td>hotel sorella for my birthday i absolutely lov...</td>\n",
       "      <td>hotel sorella for my birthday i absolutely lov...</td>\n",
       "    </tr>\n",
       "  </tbody>\n",
       "</table>\n",
       "</div>"
      ],
      "text/plain": [
       "                                         Description  \\\n",
       "0  Looking for a motel in close proximity to TV t...   \n",
       "1  Walking distance to Madison Square Garden and ...   \n",
       "2  Visited Seattle on business. Spent - nights in...   \n",
       "3  This hotel location is excellent and the rooms...   \n",
       "4  This hotel is awesome I love the service Antho...   \n",
       "5  Rooms, concierge services and party scene were...   \n",
       "6  What a pleasant place to stay!\\nThe hotel is b...   \n",
       "7  I booked out the same day I arrived. It cost m...   \n",
       "8  Unlike some hotels that grimace when you show ...   \n",
       "9  Hotel Sorella for my birthday. I absolutely lo...   \n",
       "\n",
       "                                 cleaned_description  \\\n",
       "0  looking for a motel in close proximity to tv t...   \n",
       "1  walking distance to madison square garden and ...   \n",
       "2  visited seattle on business spent  nights in t...   \n",
       "3  this hotel location is excellent and the rooms...   \n",
       "4  this hotel is awesome i love the service antho...   \n",
       "5  rooms concierge services and party scene were ...   \n",
       "6  what a pleasant place to stay\\nthe hotel is be...   \n",
       "7  i booked out the same day i arrived it cost me...   \n",
       "8  unlike some hotels that grimace when you show ...   \n",
       "9  hotel sorella for my birthday i absolutely lov...   \n",
       "\n",
       "                             cleaned_description_new  \n",
       "0  looking for a motel in close proximity to tv t...  \n",
       "1  walking distance to madison square garden and ...  \n",
       "2  visited seattle on business spent  nights in t...  \n",
       "3  this hotel location is excellent and the rooms...  \n",
       "4  this hotel is awesome i love the service antho...  \n",
       "5  rooms concierge services and party scene were ...  \n",
       "6  what a pleasant place to staythe hotel is beau...  \n",
       "7  i booked out the same day i arrived it cost me...  \n",
       "8  unlike some hotels that grimace when you show ...  \n",
       "9  hotel sorella for my birthday i absolutely lov...  "
      ]
     },
     "execution_count": 27,
     "metadata": {},
     "output_type": "execute_result"
    }
   ],
   "source": [
    "testdata['cleaned_description_new'] = pd.DataFrame(testdata['cleaned_description'].apply(cleaned2))\n",
    "testdata.head(10)"
   ]
  },
  {
   "cell_type": "code",
   "execution_count": 28,
   "metadata": {},
   "outputs": [],
   "source": [
    "test=testdata['cleaned_description_new']"
   ]
  },
  {
   "cell_type": "code",
   "execution_count": 29,
   "metadata": {},
   "outputs": [
    {
     "name": "stdout",
     "output_type": "stream",
     "text": [
      "X_train : 35038\n",
      "X_test  : 3894\n",
      "Y_train : 35038\n",
      "Y_test  : 3894\n"
     ]
    }
   ],
   "source": [
    "from sklearn.model_selection import train_test_split\n",
    "\n",
    "X = Reviewdata.cleaned_description_new\n",
    "Y = Reviewdata.Is_Response\n",
    "\n",
    "X_train, X_test, Y_train, Y_test = train_test_split(X, Y, test_size = 0.1, random_state = 225,stratify=Y)\n",
    "\n",
    "print('X_train :', len(X_train))\n",
    "print('X_test  :', len(X_test))\n",
    "print('Y_train :', len(Y_train))\n",
    "print('Y_test  :', len(Y_test))"
   ]
  },
  {
   "cell_type": "code",
   "execution_count": 30,
   "metadata": {},
   "outputs": [],
   "source": [
    "from sklearn.feature_extraction.text import TfidfVectorizer\n",
    "from sklearn.linear_model import LogisticRegression\n",
    "\n",
    "tvec = TfidfVectorizer()\n",
    "clf2 = LogisticRegression(solver = \"lbfgs\")\n",
    "\n",
    "\n",
    "from sklearn.pipeline import Pipeline"
   ]
  },
  {
   "cell_type": "code",
   "execution_count": 31,
   "metadata": {},
   "outputs": [
    {
     "data": {
      "text/plain": [
       "array([[2497,  253],\n",
       "       [ 156,  988]], dtype=int64)"
      ]
     },
     "execution_count": 31,
     "metadata": {},
     "output_type": "execute_result"
    }
   ],
   "source": [
    "model = Pipeline([('vectorizer',tvec),('classifier',clf2)])\n",
    "\n",
    "model.fit(X_train,Y_train)\n",
    "\n",
    "\n",
    "from sklearn.metrics import confusion_matrix\n",
    "\n",
    "y_pred = model.predict(X_test)\n",
    "\n",
    "confusion_matrix(y_pred,Y_test)"
   ]
  },
  {
   "cell_type": "code",
   "execution_count": 32,
   "metadata": {},
   "outputs": [
    {
     "name": "stdout",
     "output_type": "stream",
     "text": [
      "Accuracy :  0.8949666153055984\n",
      "Precision :  0.8985802387470012\n",
      "Recall :  0.8949666153055984\n"
     ]
    }
   ],
   "source": [
    "from sklearn.metrics import accuracy_score, precision_score, recall_score\n",
    "\n",
    "print(\"Accuracy : \", accuracy_score(y_pred,Y_test))\n",
    "print(\"Precision : \", precision_score(y_pred,Y_test, average = 'weighted'))\n",
    "print(\"Recall : \", recall_score(y_pred,Y_test, average = 'weighted'))"
   ]
  },
  {
   "cell_type": "code",
   "execution_count": 33,
   "metadata": {},
   "outputs": [],
   "source": [
    "from sklearn.ensemble import RandomForestClassifier as RFC\n",
    "tvec = TfidfVectorizer()\n",
    "clf2 = RFC(random_state=42)"
   ]
  },
  {
   "cell_type": "code",
   "execution_count": 34,
   "metadata": {},
   "outputs": [
    {
     "data": {
      "text/plain": [
       "array([[2607,  676],\n",
       "       [  46,  565]], dtype=int64)"
      ]
     },
     "execution_count": 34,
     "metadata": {},
     "output_type": "execute_result"
    }
   ],
   "source": [
    "model_1 = Pipeline([('vectorizer',tvec),('classifier',clf2)])\n",
    "\n",
    "model_1.fit(X_train,Y_train)\n",
    "\n",
    "\n",
    "from sklearn.metrics import confusion_matrix\n",
    "\n",
    "y_pred = model_1.predict(X_test)\n",
    "\n",
    "confusion_matrix(y_pred,Y_test)"
   ]
  },
  {
   "cell_type": "code",
   "execution_count": 35,
   "metadata": {},
   "outputs": [
    {
     "name": "stdout",
     "output_type": "stream",
     "text": [
      "Accuracy :  0.8145865434001027\n",
      "Precision :  0.8999104715292978\n",
      "Recall :  0.8145865434001027\n"
     ]
    }
   ],
   "source": [
    "from sklearn.metrics import accuracy_score, precision_score, recall_score\n",
    "\n",
    "print(\"Accuracy : \", accuracy_score(y_pred,Y_test))\n",
    "print(\"Precision : \", precision_score(y_pred,Y_test, average = 'weighted'))\n",
    "print(\"Recall : \", recall_score(y_pred,Y_test, average = 'weighted'))"
   ]
  },
  {
   "cell_type": "code",
   "execution_count": 36,
   "metadata": {},
   "outputs": [],
   "source": [
    "from sklearn.ensemble import AdaBoostClassifier as ABC\n",
    "from sklearn.tree import DecisionTreeClassifier as DTC\n",
    "DTC=DTC(max_depth=10,random_state=40)\n",
    "tvec = TfidfVectorizer()\n",
    "clf2 = ABC(DTC,random_state=42)"
   ]
  },
  {
   "cell_type": "code",
   "execution_count": 37,
   "metadata": {},
   "outputs": [
    {
     "data": {
      "text/plain": [
       "array([[2239,  527],\n",
       "       [ 414,  714]], dtype=int64)"
      ]
     },
     "execution_count": 37,
     "metadata": {},
     "output_type": "execute_result"
    }
   ],
   "source": [
    "model_2 = Pipeline([('vectorizer',tvec),('classifier',clf2)])\n",
    "\n",
    "model_2.fit(X_train,Y_train)\n",
    "\n",
    "\n",
    "from sklearn.metrics import confusion_matrix\n",
    "\n",
    "y_pred = model_2.predict(X_test)\n",
    "\n",
    "confusion_matrix(y_pred,Y_test)"
   ]
  },
  {
   "cell_type": "code",
   "execution_count": 38,
   "metadata": {},
   "outputs": [
    {
     "name": "stdout",
     "output_type": "stream",
     "text": [
      "Accuracy :  0.7583461736004109\n",
      "Precision :  0.76614090371225\n",
      "Recall :  0.7583461736004109\n"
     ]
    }
   ],
   "source": [
    "from sklearn.metrics import accuracy_score, precision_score, recall_score\n",
    "\n",
    "print(\"Accuracy : \", accuracy_score(y_pred,Y_test))\n",
    "print(\"Precision : \", precision_score(y_pred,Y_test, average = 'weighted'))\n",
    "print(\"Recall : \", recall_score(y_pred,Y_test, average = 'weighted'))"
   ]
  },
  {
   "cell_type": "code",
   "execution_count": 39,
   "metadata": {},
   "outputs": [],
   "source": [
    "result=model.predict(['I am very disappointed by the hotel'])"
   ]
  },
  {
   "cell_type": "code",
   "execution_count": 40,
   "metadata": {},
   "outputs": [
    {
     "data": {
      "text/plain": [
       "array(['not happy'], dtype=object)"
      ]
     },
     "execution_count": 40,
     "metadata": {},
     "output_type": "execute_result"
    }
   ],
   "source": [
    "result"
   ]
  },
  {
   "cell_type": "code",
   "execution_count": 41,
   "metadata": {},
   "outputs": [
    {
     "data": {
      "text/plain": [
       "array(['happy'], dtype=object)"
      ]
     },
     "execution_count": 41,
     "metadata": {},
     "output_type": "execute_result"
    }
   ],
   "source": [
    "result=model.predict(['I am very happy by the hotel'])\n",
    "result"
   ]
  },
  {
   "cell_type": "code",
   "execution_count": 42,
   "metadata": {},
   "outputs": [
    {
     "data": {
      "text/plain": [
       "array(['not happy'], dtype=object)"
      ]
     },
     "execution_count": 42,
     "metadata": {},
     "output_type": "execute_result"
    }
   ],
   "source": [
    "result=model.predict(['I am very happy disappointed by the hotel'])\n",
    "result"
   ]
  },
  {
   "cell_type": "code",
   "execution_count": 43,
   "metadata": {},
   "outputs": [
    {
     "data": {
      "text/plain": [
       "array(['happy'], dtype=object)"
      ]
     },
     "execution_count": 43,
     "metadata": {},
     "output_type": "execute_result"
    }
   ],
   "source": [
    "result=model_1.predict(['I am very happy by the hotel'])\n",
    "result"
   ]
  },
  {
   "cell_type": "code",
   "execution_count": null,
   "metadata": {},
   "outputs": [],
   "source": []
  }
 ],
 "metadata": {
  "kernelspec": {
   "display_name": "Python 3",
   "language": "python",
   "name": "python3"
  },
  "language_info": {
   "codemirror_mode": {
    "name": "ipython",
    "version": 3
   },
   "file_extension": ".py",
   "mimetype": "text/x-python",
   "name": "python",
   "nbconvert_exporter": "python",
   "pygments_lexer": "ipython3",
   "version": "3.7.6"
  }
 },
 "nbformat": 4,
 "nbformat_minor": 4
}
